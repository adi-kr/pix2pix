{
 "cells": [
  {
   "cell_type": "code",
   "execution_count": null,
   "id": "452e86d3",
   "metadata": {
    "_cell_guid": "b1076dfc-b9ad-4769-8c92-a6c4dae69d19",
    "_uuid": "8f2839f25d086af736a60e9eeb907d3b93b6e0e5",
    "papermill": {
     "duration": 0.051359,
     "end_time": "2022-05-25T04:45:36.208131",
     "exception": false,
     "start_time": "2022-05-25T04:45:36.156772",
     "status": "completed"
    },
    "tags": []
   },
   "outputs": [],
   "source": []
  },
  {
   "cell_type": "code",
   "execution_count": null,
   "id": "d0027f7e",
   "metadata": {
    "execution": {
     "iopub.execute_input": "2022-05-25T04:45:36.304775Z",
     "iopub.status.busy": "2022-05-25T04:45:36.304298Z",
     "iopub.status.idle": "2022-05-25T04:45:47.535243Z",
     "shell.execute_reply": "2022-05-25T04:45:47.534223Z"
    },
    "papermill": {
     "duration": 11.286704,
     "end_time": "2022-05-25T04:45:47.537851",
     "exception": false,
     "start_time": "2022-05-25T04:45:36.251147",
     "status": "completed"
    },
    "tags": []
   },
   "outputs": [],
   "source": [
    "!pip install natsort"
   ]
  },
  {
   "cell_type": "code",
   "execution_count": null,
   "id": "1c7819c5",
   "metadata": {
    "execution": {
     "iopub.execute_input": "2022-05-25T04:45:47.629204Z",
     "iopub.status.busy": "2022-05-25T04:45:47.628964Z",
     "iopub.status.idle": "2022-05-25T04:45:48.896032Z",
     "shell.execute_reply": "2022-05-25T04:45:48.895229Z"
    },
    "papermill": {
     "duration": 1.315463,
     "end_time": "2022-05-25T04:45:48.898960",
     "exception": false,
     "start_time": "2022-05-25T04:45:47.583497",
     "status": "completed"
    },
    "tags": []
   },
   "outputs": [],
   "source": [
    "import numpy as np \n",
    "import pandas as pd\n",
    "import os\n",
    "from os import listdir\n",
    "from os.path import isfile, join\n",
    "import matplotlib.pyplot as plt\n",
    "from natsort import natsorted, ns\n",
    "import h5py\n",
    "import sklearn as sk\n",
    "from skimage.transform import resize\n",
    "from numpy import load\n",
    "from numpy import zeros\n",
    "from numpy import ones"
   ]
  },
  {
   "cell_type": "code",
   "execution_count": null,
   "id": "a67d6ce1",
   "metadata": {
    "execution": {
     "iopub.execute_input": "2022-05-25T04:45:49.077848Z",
     "iopub.status.busy": "2022-05-25T04:45:49.077523Z",
     "iopub.status.idle": "2022-05-25T04:45:54.338213Z",
     "shell.execute_reply": "2022-05-25T04:45:54.337484Z"
    },
    "papermill": {
     "duration": 5.342168,
     "end_time": "2022-05-25T04:45:54.340341",
     "exception": false,
     "start_time": "2022-05-25T04:45:48.998173",
     "status": "completed"
    },
    "tags": []
   },
   "outputs": [],
   "source": [
    "mypath = \"../input/figshare-brain-tumor-dataset/dataset/data\"\n",
    "filelist = natsorted([f for f in listdir(mypath) if isfile(join(mypath, f))])"
   ]
  },
  {
   "cell_type": "code",
   "execution_count": null,
   "id": "e6d79a34",
   "metadata": {
    "execution": {
     "iopub.execute_input": "2022-05-25T04:45:54.432374Z",
     "iopub.status.busy": "2022-05-25T04:45:54.431916Z",
     "iopub.status.idle": "2022-05-25T04:45:54.453975Z",
     "shell.execute_reply": "2022-05-25T04:45:54.453251Z"
    },
    "papermill": {
     "duration": 0.070585,
     "end_time": "2022-05-25T04:45:54.456599",
     "exception": false,
     "start_time": "2022-05-25T04:45:54.386014",
     "status": "completed"
    },
    "scrolled": true,
    "tags": []
   },
   "outputs": [],
   "source": [
    "filelist"
   ]
  },
  {
   "cell_type": "code",
   "execution_count": null,
   "id": "0f44e75b",
   "metadata": {
    "execution": {
     "iopub.execute_input": "2022-05-25T04:45:54.551077Z",
     "iopub.status.busy": "2022-05-25T04:45:54.550842Z",
     "iopub.status.idle": "2022-05-25T04:45:54.554617Z",
     "shell.execute_reply": "2022-05-25T04:45:54.553686Z"
    },
    "papermill": {
     "duration": 0.05346,
     "end_time": "2022-05-25T04:45:54.556769",
     "exception": false,
     "start_time": "2022-05-25T04:45:54.503309",
     "status": "completed"
    },
    "tags": []
   },
   "outputs": [],
   "source": [
    "filelist100 = filelist[0:100]"
   ]
  },
  {
   "cell_type": "code",
   "execution_count": null,
   "id": "02bfd912",
   "metadata": {
    "execution": {
     "iopub.execute_input": "2022-05-25T04:45:54.652459Z",
     "iopub.status.busy": "2022-05-25T04:45:54.652211Z",
     "iopub.status.idle": "2022-05-25T04:45:54.658703Z",
     "shell.execute_reply": "2022-05-25T04:45:54.658060Z"
    },
    "papermill": {
     "duration": 0.054944,
     "end_time": "2022-05-25T04:45:54.660287",
     "exception": false,
     "start_time": "2022-05-25T04:45:54.605343",
     "status": "completed"
    },
    "scrolled": true,
    "tags": []
   },
   "outputs": [],
   "source": [
    "filelist100"
   ]
  },
  {
   "cell_type": "code",
   "execution_count": null,
   "id": "8d562ec5",
   "metadata": {
    "execution": {
     "iopub.execute_input": "2022-05-25T04:45:54.756170Z",
     "iopub.status.busy": "2022-05-25T04:45:54.755554Z",
     "iopub.status.idle": "2022-05-25T04:45:56.593621Z",
     "shell.execute_reply": "2022-05-25T04:45:56.592810Z"
    },
    "papermill": {
     "duration": 1.888056,
     "end_time": "2022-05-25T04:45:56.595570",
     "exception": false,
     "start_time": "2022-05-25T04:45:54.707514",
     "status": "completed"
    },
    "scrolled": true,
    "tags": []
   },
   "outputs": [],
   "source": [
    "path = \"../input/figshare-brain-tumor-dataset/dataset/data/\"\n",
    "datalist = []\n",
    "for i in range(0,100):\n",
    "    f = h5py.File(path + filelist100[i],'r')\n",
    "    list(f.keys())\n",
    "    datalist.append(np.array(f.get('cjdata/tumorMask/')))\n",
    "    datalist[i].reshape(512,512,1)\n",
    "    datalist[i] = resize(datalist[i], (256, 256))\n",
    "    \n",
    "np.array(datalist)\n"
   ]
  },
  {
   "attachments": {},
   "cell_type": "markdown",
   "id": "3d543881",
   "metadata": {
    "execution": {
     "iopub.execute_input": "2022-05-20T12:14:20.985628Z",
     "iopub.status.busy": "2022-05-20T12:14:20.985063Z",
     "iopub.status.idle": "2022-05-20T12:14:21.021288Z",
     "shell.execute_reply": "2022-05-20T12:14:21.02042Z",
     "shell.execute_reply.started": "2022-05-20T12:14:20.985585Z"
    },
    "papermill": {
     "duration": 0.049194,
     "end_time": "2022-05-25T04:45:56.692978",
     "exception": false,
     "start_time": "2022-05-25T04:45:56.643784",
     "status": "completed"
    },
    "tags": []
   },
   "source": [
    "datalist"
   ]
  },
  {
   "cell_type": "code",
   "execution_count": null,
   "id": "4f2e4309",
   "metadata": {
    "execution": {
     "iopub.execute_input": "2022-05-25T04:45:56.798256Z",
     "iopub.status.busy": "2022-05-25T04:45:56.798011Z",
     "iopub.status.idle": "2022-05-25T04:45:56.991543Z",
     "shell.execute_reply": "2022-05-25T04:45:56.990855Z"
    },
    "papermill": {
     "duration": 0.243784,
     "end_time": "2022-05-25T04:45:56.993403",
     "exception": false,
     "start_time": "2022-05-25T04:45:56.749619",
     "status": "completed"
    },
    "tags": []
   },
   "outputs": [],
   "source": [
    "plt.imshow(datalist[0])"
   ]
  },
  {
   "attachments": {},
   "cell_type": "markdown",
   "id": "a8394007",
   "metadata": {
    "papermill": {
     "duration": 0.048786,
     "end_time": "2022-05-25T04:45:57.090765",
     "exception": false,
     "start_time": "2022-05-25T04:45:57.041979",
     "status": "completed"
    },
    "tags": []
   },
   "source": []
  },
  {
   "cell_type": "code",
   "execution_count": null,
   "id": "50501213",
   "metadata": {
    "execution": {
     "iopub.execute_input": "2022-05-25T04:45:57.188090Z",
     "iopub.status.busy": "2022-05-25T04:45:57.187847Z",
     "iopub.status.idle": "2022-05-25T04:46:01.385584Z",
     "shell.execute_reply": "2022-05-25T04:46:01.384803Z"
    },
    "papermill": {
     "duration": 4.248941,
     "end_time": "2022-05-25T04:46:01.387679",
     "exception": false,
     "start_time": "2022-05-25T04:45:57.138738",
     "status": "completed"
    },
    "tags": []
   },
   "outputs": [],
   "source": [
    "import tensorflow as tf\n"
   ]
  },
  {
   "cell_type": "code",
   "execution_count": null,
   "id": "1637ff41",
   "metadata": {
    "execution": {
     "iopub.execute_input": "2022-05-25T04:46:01.484860Z",
     "iopub.status.busy": "2022-05-25T04:46:01.484634Z",
     "iopub.status.idle": "2022-05-25T04:46:04.995300Z",
     "shell.execute_reply": "2022-05-25T04:46:04.994309Z"
    },
    "papermill": {
     "duration": 3.56273,
     "end_time": "2022-05-25T04:46:04.998365",
     "exception": false,
     "start_time": "2022-05-25T04:46:01.435635",
     "status": "completed"
    },
    "tags": []
   },
   "outputs": [],
   "source": [
    "kaamKaDataStack = tf.stack(\n",
    "   datalist, axis=0, name='stack'\n",
    ")"
   ]
  },
  {
   "cell_type": "code",
   "execution_count": null,
   "id": "6a711f1d",
   "metadata": {
    "execution": {
     "iopub.execute_input": "2022-05-25T04:46:05.095500Z",
     "iopub.status.busy": "2022-05-25T04:46:05.094932Z",
     "iopub.status.idle": "2022-05-25T04:46:05.138681Z",
     "shell.execute_reply": "2022-05-25T04:46:05.137779Z"
    },
    "papermill": {
     "duration": 0.094414,
     "end_time": "2022-05-25T04:46:05.140698",
     "exception": false,
     "start_time": "2022-05-25T04:46:05.046284",
     "status": "completed"
    },
    "scrolled": true,
    "tags": []
   },
   "outputs": [],
   "source": [
    "kaamKaDataStack"
   ]
  },
  {
   "cell_type": "code",
   "execution_count": null,
   "id": "212a0458",
   "metadata": {
    "papermill": {
     "duration": 0.047911,
     "end_time": "2022-05-25T04:46:05.239656",
     "exception": false,
     "start_time": "2022-05-25T04:46:05.191745",
     "status": "completed"
    },
    "tags": []
   },
   "outputs": [],
   "source": []
  },
  {
   "cell_type": "code",
   "execution_count": null,
   "id": "daea0be4",
   "metadata": {
    "execution": {
     "iopub.execute_input": "2022-05-25T04:46:05.336468Z",
     "iopub.status.busy": "2022-05-25T04:46:05.335840Z",
     "iopub.status.idle": "2022-05-25T04:46:05.340655Z",
     "shell.execute_reply": "2022-05-25T04:46:05.339979Z"
    },
    "papermill": {
     "duration": 0.055112,
     "end_time": "2022-05-25T04:46:05.342375",
     "exception": false,
     "start_time": "2022-05-25T04:46:05.287263",
     "status": "completed"
    },
    "tags": []
   },
   "outputs": [],
   "source": [
    "from numpy import savez"
   ]
  },
  {
   "cell_type": "code",
   "execution_count": null,
   "id": "dddc7b2d",
   "metadata": {
    "execution": {
     "iopub.execute_input": "2022-05-25T04:46:05.438675Z",
     "iopub.status.busy": "2022-05-25T04:46:05.438466Z",
     "iopub.status.idle": "2022-05-25T04:46:05.540982Z",
     "shell.execute_reply": "2022-05-25T04:46:05.539853Z"
    },
    "papermill": {
     "duration": 0.153054,
     "end_time": "2022-05-25T04:46:05.543187",
     "exception": false,
     "start_time": "2022-05-25T04:46:05.390133",
     "status": "completed"
    },
    "tags": []
   },
   "outputs": [],
   "source": [
    "np.savez(\"./test.npz\", kaamKaDataStack)"
   ]
  },
  {
   "cell_type": "code",
   "execution_count": null,
   "id": "b7aabbad",
   "metadata": {
    "papermill": {
     "duration": 0.049864,
     "end_time": "2022-05-25T04:46:05.641817",
     "exception": false,
     "start_time": "2022-05-25T04:46:05.591953",
     "status": "completed"
    },
    "tags": []
   },
   "outputs": [],
   "source": [
    " "
   ]
  },
  {
   "cell_type": "code",
   "execution_count": null,
   "id": "a317e51a",
   "metadata": {
    "execution": {
     "iopub.execute_input": "2022-05-25T04:46:05.743946Z",
     "iopub.status.busy": "2022-05-25T04:46:05.743511Z",
     "iopub.status.idle": "2022-05-25T04:46:07.979038Z",
     "shell.execute_reply": "2022-05-25T04:46:07.978288Z"
    },
    "papermill": {
     "duration": 2.287908,
     "end_time": "2022-05-25T04:46:07.980937",
     "exception": false,
     "start_time": "2022-05-25T04:46:05.693029",
     "status": "completed"
    },
    "scrolled": true,
    "tags": []
   },
   "outputs": [],
   "source": [
    "path = \"../input/figshare-brain-tumor-dataset/dataset/data/\"\n",
    "imageDatalist = []\n",
    "for i in range(0,100):\n",
    "    f1 = h5py.File(path + filelist100[i],'r')\n",
    "    list(f1.keys())\n",
    "    imageDatalist.append(np.array(f1.get('cjdata/image/')))\n",
    "    imageDatalist[i].reshape(512,512,1)\n",
    "    imageDatalist[i] = resize(imageDatalist[i], (256, 256))\n",
    "    \n",
    "np.array(imageDatalist)"
   ]
  },
  {
   "cell_type": "code",
   "execution_count": null,
   "id": "81f446d8",
   "metadata": {
    "execution": {
     "iopub.execute_input": "2022-05-25T04:46:08.080790Z",
     "iopub.status.busy": "2022-05-25T04:46:08.080520Z",
     "iopub.status.idle": "2022-05-25T04:46:08.265582Z",
     "shell.execute_reply": "2022-05-25T04:46:08.264877Z"
    },
    "papermill": {
     "duration": 0.237071,
     "end_time": "2022-05-25T04:46:08.267889",
     "exception": false,
     "start_time": "2022-05-25T04:46:08.030818",
     "status": "completed"
    },
    "tags": []
   },
   "outputs": [],
   "source": [
    "plt.imshow(imageDatalist[0])"
   ]
  },
  {
   "cell_type": "code",
   "execution_count": null,
   "id": "a919a4eb",
   "metadata": {
    "execution": {
     "iopub.execute_input": "2022-05-25T04:46:08.370911Z",
     "iopub.status.busy": "2022-05-25T04:46:08.370214Z",
     "iopub.status.idle": "2022-05-25T04:46:08.375229Z",
     "shell.execute_reply": "2022-05-25T04:46:08.374589Z"
    },
    "papermill": {
     "duration": 0.057912,
     "end_time": "2022-05-25T04:46:08.376927",
     "exception": false,
     "start_time": "2022-05-25T04:46:08.319015",
     "status": "completed"
    },
    "tags": []
   },
   "outputs": [],
   "source": [
    "import tensorflow as tf"
   ]
  },
  {
   "cell_type": "code",
   "execution_count": null,
   "id": "37c4ea43",
   "metadata": {
    "execution": {
     "iopub.execute_input": "2022-05-25T04:46:08.479724Z",
     "iopub.status.busy": "2022-05-25T04:46:08.479074Z",
     "iopub.status.idle": "2022-05-25T04:46:09.318758Z",
     "shell.execute_reply": "2022-05-25T04:46:09.317961Z"
    },
    "papermill": {
     "duration": 0.892797,
     "end_time": "2022-05-25T04:46:09.320522",
     "exception": false,
     "start_time": "2022-05-25T04:46:08.427725",
     "status": "completed"
    },
    "tags": []
   },
   "outputs": [],
   "source": [
    "kaamKaImageStack = tf.stack(\n",
    "   imageDatalist, axis=0, name='stack1'\n",
    ")"
   ]
  },
  {
   "cell_type": "code",
   "execution_count": null,
   "id": "efa5653d",
   "metadata": {
    "papermill": {
     "duration": 0.05032,
     "end_time": "2022-05-25T04:46:09.421370",
     "exception": false,
     "start_time": "2022-05-25T04:46:09.371050",
     "status": "completed"
    },
    "tags": []
   },
   "outputs": [],
   "source": []
  },
  {
   "cell_type": "code",
   "execution_count": null,
   "id": "25eac135",
   "metadata": {
    "papermill": {
     "duration": 0.05042,
     "end_time": "2022-05-25T04:46:09.522001",
     "exception": false,
     "start_time": "2022-05-25T04:46:09.471581",
     "status": "completed"
    },
    "tags": []
   },
   "outputs": [],
   "source": []
  },
  {
   "cell_type": "code",
   "execution_count": null,
   "id": "e630407d",
   "metadata": {
    "execution": {
     "iopub.execute_input": "2022-05-25T04:46:09.624343Z",
     "iopub.status.busy": "2022-05-25T04:46:09.624094Z",
     "iopub.status.idle": "2022-05-25T04:46:09.720866Z",
     "shell.execute_reply": "2022-05-25T04:46:09.720084Z"
    },
    "papermill": {
     "duration": 0.150118,
     "end_time": "2022-05-25T04:46:09.723057",
     "exception": false,
     "start_time": "2022-05-25T04:46:09.572939",
     "status": "completed"
    },
    "tags": []
   },
   "outputs": [],
   "source": [
    "np.savez(\"./testimg.npz\", kaamKaDataStack)"
   ]
  },
  {
   "cell_type": "code",
   "execution_count": null,
   "id": "638bfe50",
   "metadata": {
    "execution": {
     "iopub.execute_input": "2022-05-25T04:46:09.825650Z",
     "iopub.status.busy": "2022-05-25T04:46:09.825414Z",
     "iopub.status.idle": "2022-05-25T04:46:09.830540Z",
     "shell.execute_reply": "2022-05-25T04:46:09.829761Z"
    },
    "papermill": {
     "duration": 0.059233,
     "end_time": "2022-05-25T04:46:09.833076",
     "exception": false,
     "start_time": "2022-05-25T04:46:09.773843",
     "status": "completed"
    },
    "tags": []
   },
   "outputs": [],
   "source": [
    "pwd"
   ]
  },
  {
   "cell_type": "code",
   "execution_count": null,
   "id": "3d4c2630",
   "metadata": {
    "execution": {
     "iopub.execute_input": "2022-05-25T04:46:09.937825Z",
     "iopub.status.busy": "2022-05-25T04:46:09.937601Z",
     "iopub.status.idle": "2022-05-25T04:46:09.941138Z",
     "shell.execute_reply": "2022-05-25T04:46:09.940363Z"
    },
    "papermill": {
     "duration": 0.05735,
     "end_time": "2022-05-25T04:46:09.943159",
     "exception": false,
     "start_time": "2022-05-25T04:46:09.885809",
     "status": "completed"
    },
    "tags": []
   },
   "outputs": [],
   "source": [
    "data_source2 = \"./test.npz\"\n",
    "data_source1 = \"./testimg.npz\" "
   ]
  },
  {
   "attachments": {},
   "cell_type": "markdown",
   "id": "2c5aa406",
   "metadata": {
    "papermill": {
     "duration": 0.051872,
     "end_time": "2022-05-25T04:46:10.045204",
     "exception": false,
     "start_time": "2022-05-25T04:46:09.993332",
     "status": "completed"
    },
    "tags": []
   },
   "source": []
  },
  {
   "cell_type": "code",
   "execution_count": null,
   "id": "56e5b582",
   "metadata": {
    "execution": {
     "iopub.execute_input": "2022-05-25T04:46:10.148347Z",
     "iopub.status.busy": "2022-05-25T04:46:10.148036Z",
     "iopub.status.idle": "2022-05-25T04:46:12.352793Z",
     "shell.execute_reply": "2022-05-25T04:46:12.351207Z"
    },
    "papermill": {
     "duration": 2.261023,
     "end_time": "2022-05-25T04:46:12.356825",
     "exception": false,
     "start_time": "2022-05-25T04:46:10.095802",
     "status": "completed"
    },
    "scrolled": true,
    "tags": []
   },
   "outputs": [],
   "source": [
    "\n",
    "# defining a 70x70 patchgan discriminator model\n",
    "from tensorflow.keras.optimizers import Adam\n",
    "from keras.initializers import RandomNormal\n",
    "from keras.models import Model\n",
    "from keras.models import Input\n",
    "from keras.layers import Conv2D\n",
    "from keras.layers import LeakyReLU\n",
    "from keras.layers import Activation\n",
    "from keras.layers import Concatenate\n",
    "from keras.layers import BatchNormalization\n",
    "from keras.utils.vis_utils import plot_model\n",
    "\n",
    "# define the discriminator model\n",
    "def define_discriminator(image_shape):\n",
    "     # weight initialization\n",
    "    init = RandomNormal(stddev=0.02)\n",
    "\t# source image input\n",
    "    in_src_image = Input(shape=image_shape)\n",
    "\t# target image input\n",
    "    in_target_image = Input(shape=image_shape)\n",
    "\t# concatenate images channel-wise\n",
    "    merged = Concatenate()([in_src_image, in_target_image])\n",
    "\t# C64\n",
    "    d = Conv2D(64, (4,4), strides=(2,2), padding='same', kernel_initializer=init)(merged)\n",
    "    d = LeakyReLU(alpha=0.2)(d)\n",
    "\t# C128\n",
    "    d = Conv2D(128, (4,4), strides=(2,2), padding='same', kernel_initializer=init)(d)\n",
    "    d = BatchNormalization()(d)\n",
    "    d = LeakyReLU(alpha=0.2)(d)\n",
    "\t# C256\n",
    "    d = Conv2D(256, (4,4), strides=(2,2), padding='same', kernel_initializer=init)(d)\n",
    "    d = BatchNormalization()(d)\n",
    "    d = LeakyReLU(alpha=0.2)(d)\n",
    "\t# C512\n",
    "    d = Conv2D(512, (4,4), strides=(2,2), padding='same', kernel_initializer=init)(d)\n",
    "    d = BatchNormalization()(d)\n",
    "    d = LeakyReLU(alpha=0.2)(d)\n",
    "\t# second last output layer\n",
    "    d = Conv2D(512, (4,4), padding='same', kernel_initializer=init)(d)\n",
    "    d = BatchNormalization()(d)\n",
    "    d = LeakyReLU(alpha=0.2)(d)\n",
    "\t# patch output\n",
    "    d = Conv2D(1, (4,4), padding='same', kernel_initializer=init)(d)\n",
    "    patch_out = Activation('sigmoid')(d)\n",
    "\t# define model\n",
    "    model = Model([in_src_image, in_target_image], patch_out)\n",
    "\t# compile model\n",
    "    opt = Adam(lr=0.0002, beta_1=0.5)\n",
    "    model.compile(loss='binary_crossentropy', optimizer=opt, loss_weights=[0.5])\n",
    "    return model\n",
    "\n",
    "# define image shape\n",
    "image_shape = (256,256,1)\n",
    "# create the model\n",
    "model = define_discriminator(image_shape)\n",
    "# summarize the model\n",
    "model.summary()\n",
    "# plot the model\n",
    "plot_model(model, to_file='discriminator_model_plot.png', show_shapes=True, show_layer_names=True)"
   ]
  },
  {
   "attachments": {},
   "cell_type": "markdown",
   "id": "94a554d3",
   "metadata": {
    "papermill": {
     "duration": 0.055469,
     "end_time": "2022-05-25T04:46:12.469024",
     "exception": false,
     "start_time": "2022-05-25T04:46:12.413555",
     "status": "completed"
    },
    "tags": []
   },
   "source": [
    "generator model\n"
   ]
  },
  {
   "cell_type": "code",
   "execution_count": null,
   "id": "4c4c5f74",
   "metadata": {
    "execution": {
     "iopub.execute_input": "2022-05-25T04:46:12.582350Z",
     "iopub.status.busy": "2022-05-25T04:46:12.582077Z",
     "iopub.status.idle": "2022-05-25T04:46:12.587775Z",
     "shell.execute_reply": "2022-05-25T04:46:12.587097Z"
    },
    "papermill": {
     "duration": 0.065149,
     "end_time": "2022-05-25T04:46:12.589682",
     "exception": false,
     "start_time": "2022-05-25T04:46:12.524533",
     "status": "completed"
    },
    "tags": []
   },
   "outputs": [],
   "source": [
    "from keras.initializers import RandomNormal\n",
    "from keras.models import Model\n",
    "from keras.models import Input\n",
    "from keras.layers import Conv2D\n",
    "from keras.layers import Conv2DTranspose\n",
    "from keras.layers import LeakyReLU\n",
    "from keras.layers import Activation\n",
    "from keras.layers import Concatenate\n",
    "from keras.layers import Dropout\n",
    "from keras.layers import BatchNormalization\n",
    "from keras.layers import LeakyReLU\n",
    "from keras.utils.vis_utils import plot_model\n",
    "from random import randint"
   ]
  },
  {
   "cell_type": "code",
   "execution_count": null,
   "id": "d6280078",
   "metadata": {
    "execution": {
     "iopub.execute_input": "2022-05-25T04:46:12.701972Z",
     "iopub.status.busy": "2022-05-25T04:46:12.701461Z",
     "iopub.status.idle": "2022-05-25T04:46:12.706565Z",
     "shell.execute_reply": "2022-05-25T04:46:12.705892Z"
    },
    "papermill": {
     "duration": 0.063115,
     "end_time": "2022-05-25T04:46:12.708177",
     "exception": false,
     "start_time": "2022-05-25T04:46:12.645062",
     "status": "completed"
    },
    "tags": []
   },
   "outputs": [],
   "source": [
    "def define_encoder_block(layer_in, n_filters, batchnorm=True):\n",
    "    init = RandomNormal(stddev=0.02)\n",
    "    g = Conv2D(n_filters, (4,4), strides=(2,2), padding='same', kernel_initializer=init)(layer_in)\n",
    "    if batchnorm:\n",
    "        g = BatchNormalization()(g, training=True)\n",
    "    g = LeakyReLU(alpha=0.2)(g)\n",
    "    return g"
   ]
  },
  {
   "cell_type": "code",
   "execution_count": null,
   "id": "33078b61",
   "metadata": {
    "execution": {
     "iopub.execute_input": "2022-05-25T04:46:12.822042Z",
     "iopub.status.busy": "2022-05-25T04:46:12.821335Z",
     "iopub.status.idle": "2022-05-25T04:46:12.828086Z",
     "shell.execute_reply": "2022-05-25T04:46:12.827418Z"
    },
    "papermill": {
     "duration": 0.065985,
     "end_time": "2022-05-25T04:46:12.829819",
     "exception": false,
     "start_time": "2022-05-25T04:46:12.763834",
     "status": "completed"
    },
    "tags": []
   },
   "outputs": [],
   "source": [
    "def decoder_block(layer_in, skip_in, n_filters, dropout=True):\n",
    "\t# weight initialization\n",
    "    init = RandomNormal(stddev=0.02)\n",
    "\t# add upsampling layer\n",
    "    g = Conv2DTranspose(n_filters, (4,4), strides=(2,2), padding='same', kernel_initializer=init)(layer_in)\n",
    "\t# add batch normalization\n",
    "    g = BatchNormalization()(g, training=True)\n",
    "\t# conditionally add dropout\n",
    "    if dropout:\n",
    "        g = Dropout(0.5)(g, training=True)\n",
    "\t# merge with skip connection\n",
    "    g = Concatenate()([g, skip_in])\n",
    "\t# relu activation\n",
    "    g = Activation('relu')(g)\n",
    "    return g"
   ]
  },
  {
   "cell_type": "code",
   "execution_count": null,
   "id": "36c5b5c4",
   "metadata": {
    "execution": {
     "iopub.execute_input": "2022-05-25T04:46:12.944090Z",
     "iopub.status.busy": "2022-05-25T04:46:12.943436Z",
     "iopub.status.idle": "2022-05-25T04:46:14.351857Z",
     "shell.execute_reply": "2022-05-25T04:46:14.351106Z"
    },
    "papermill": {
     "duration": 1.484306,
     "end_time": "2022-05-25T04:46:14.370604",
     "exception": false,
     "start_time": "2022-05-25T04:46:12.886298",
     "status": "completed"
    },
    "scrolled": true,
    "tags": []
   },
   "outputs": [],
   "source": [
    "def define_generator(image_shape=(256,256,1)):\n",
    "\t# weight initialization\n",
    "    init = RandomNormal(stddev=0.02)\n",
    "\t# image input\n",
    "    in_image = Input(shape=image_shape)\n",
    "\t# encoder model: C64-C128-C256-C512-C512-C512-C512-C512\n",
    "    e1 = define_encoder_block(in_image, 64, batchnorm=False)\n",
    "    e2 = define_encoder_block(e1, 128)\n",
    "    e3 = define_encoder_block(e2, 256)\n",
    "    e4 = define_encoder_block(e3, 512)\n",
    "    e5 = define_encoder_block(e4, 512)\n",
    "    e6 = define_encoder_block(e5, 512)\n",
    "    e7 = define_encoder_block(e6, 512)\n",
    "\t# bottleneck, no batch norm and relu\n",
    "    b = Conv2D(512, (4,4), strides=(2,2), padding='same', kernel_initializer=init)(e7)\n",
    "    b = Activation('relu')(b)\n",
    "\t# decoder model: CD512-CD1024-CD1024-C1024-C1024-C512-C256-C128\n",
    "    d1 = decoder_block(b, e7, 512)\n",
    "    d2 = decoder_block(d1, e6, 512)\n",
    "    d3 = decoder_block(d2, e5, 512)\n",
    "    d4 = decoder_block(d3, e4, 512, dropout=False)\n",
    "    d5 = decoder_block(d4, e3, 256, dropout=False)\n",
    "    d6 = decoder_block(d5, e2, 128, dropout=False)\n",
    "    d7 = decoder_block(d6, e1, 64, dropout=False)\n",
    "\t# output\n",
    "    g = Conv2DTranspose(1, (4,4), strides=(2,2), padding='same', kernel_initializer=init)(d7)\n",
    "    out_image = Activation('tanh')(g)\n",
    "\t# define model\n",
    "    model = Model(in_image, out_image)\n",
    "    return model\n",
    "image_shape = (256,256,1)\n",
    "# create the model\n",
    "model = define_generator(image_shape)\n",
    "# summarize the model\n",
    "model.summary()\n",
    "# plot the model\n",
    "plot_model(model, to_file='generator_model_plot.png', show_shapes=True, show_layer_names=True)"
   ]
  },
  {
   "cell_type": "code",
   "execution_count": null,
   "id": "acc85090",
   "metadata": {
    "execution": {
     "iopub.execute_input": "2022-05-25T04:46:14.609903Z",
     "iopub.status.busy": "2022-05-25T04:46:14.609327Z",
     "iopub.status.idle": "2022-05-25T04:46:15.278176Z",
     "shell.execute_reply": "2022-05-25T04:46:15.277451Z"
    },
    "papermill": {
     "duration": 0.791826,
     "end_time": "2022-05-25T04:46:15.280991",
     "exception": false,
     "start_time": "2022-05-25T04:46:14.489165",
     "status": "completed"
    },
    "tags": []
   },
   "outputs": [],
   "source": [
    "def define_gan(g_model, d_model, image_shape):\n",
    "\t# make weights in the discriminator not trainable\n",
    "    for layer in d_model.layers:\n",
    "        if not isinstance(layer, BatchNormalization):\n",
    "            layer.trainable = False\n",
    "\t# define the source image\n",
    "    in_src = Input(shape=image_shape)\n",
    "    print(in_src)\n",
    "\t# connect the source image to the generator input\n",
    "    gen_out = g_model(in_src)\n",
    "    #tf.reshape(gen_out, [-1,256,256,1])\n",
    "    #print(\"I:\",in_src.shape)\n",
    "    #print(\"Gen:\",gen_out.shape)\n",
    "\t# connect the source input and generator output to the discriminator input\n",
    "    dis_out = d_model([in_src, gen_out])\n",
    "\t# src image as input, generated image and classification output\n",
    "    model = Model(in_src, [dis_out, gen_out])\n",
    "\t# compile model\n",
    "    opt = Adam(lr=0.0002, beta_1=0.5)\n",
    "    model.compile(loss=['binary_crossentropy', 'mae'], optimizer=opt, loss_weights=[1,100])\n",
    "    return model\n",
    "image_shape = (256,256,1)\n",
    "# define the models\n",
    "d_model = define_discriminator(image_shape)\n",
    "g_model = define_generator(image_shape)\n",
    "# define the composite model\n",
    "gan_model = define_gan(g_model, d_model, image_shape)"
   ]
  },
  {
   "cell_type": "code",
   "execution_count": null,
   "id": "cca9c492",
   "metadata": {
    "papermill": {
     "duration": 0.070518,
     "end_time": "2022-05-25T04:46:15.427047",
     "exception": false,
     "start_time": "2022-05-25T04:46:15.356529",
     "status": "completed"
    },
    "tags": []
   },
   "outputs": [],
   "source": [
    "   "
   ]
  },
  {
   "cell_type": "code",
   "execution_count": null,
   "id": "8e21d199",
   "metadata": {
    "papermill": {
     "duration": 0.070276,
     "end_time": "2022-05-25T04:46:15.568742",
     "exception": false,
     "start_time": "2022-05-25T04:46:15.498466",
     "status": "completed"
    },
    "tags": []
   },
   "outputs": [],
   "source": []
  },
  {
   "cell_type": "code",
   "execution_count": null,
   "id": "a9af1ef9",
   "metadata": {
    "execution": {
     "iopub.execute_input": "2022-05-25T04:46:15.712407Z",
     "iopub.status.busy": "2022-05-25T04:46:15.712133Z",
     "iopub.status.idle": "2022-05-25T04:46:15.717539Z",
     "shell.execute_reply": "2022-05-25T04:46:15.716818Z"
    },
    "papermill": {
     "duration": 0.078871,
     "end_time": "2022-05-25T04:46:15.719239",
     "exception": false,
     "start_time": "2022-05-25T04:46:15.640368",
     "status": "completed"
    },
    "tags": []
   },
   "outputs": [],
   "source": [
    "# select a batch of random samples, returns images and target\n",
    "def generate_real_samples(dataset, n_samples, patch_shape):\n",
    "\t# unpack dataset\n",
    "    trainA, trainB = dataset\n",
    "\t# choose random instances\n",
    "    #print(trainA.shape)\n",
    "    ix = np.random.randint(0, trainA.shape[0], n_samples)\n",
    "\t# retrieve selected images\n",
    "    X1, X2 = trainA[ix], trainB[ix]\n",
    "\t# generate 'real' class labels (1)\n",
    "    y = ones((n_samples, patch_shape, patch_shape, 1)) \n",
    "    return [X1, X2], y\n"
   ]
  },
  {
   "cell_type": "code",
   "execution_count": null,
   "id": "21833dd5",
   "metadata": {
    "execution": {
     "iopub.execute_input": "2022-05-25T04:46:15.863028Z",
     "iopub.status.busy": "2022-05-25T04:46:15.862456Z",
     "iopub.status.idle": "2022-05-25T04:46:15.867004Z",
     "shell.execute_reply": "2022-05-25T04:46:15.866207Z"
    },
    "papermill": {
     "duration": 0.080819,
     "end_time": "2022-05-25T04:46:15.870954",
     "exception": false,
     "start_time": "2022-05-25T04:46:15.790135",
     "status": "completed"
    },
    "tags": []
   },
   "outputs": [],
   "source": [
    "def generate_fake_samples(g_model, samples, patch_shape):\n",
    "\t# generate fake instance\n",
    "    X = g_model.predict(samples)\n",
    "\t# create 'fake' class labels (0)\n",
    "    y = zeros((len(X), patch_shape, patch_shape, 1))\n",
    "    return X, y"
   ]
  },
  {
   "cell_type": "code",
   "execution_count": null,
   "id": "a331f217",
   "metadata": {
    "execution": {
     "iopub.execute_input": "2022-05-25T04:46:16.022230Z",
     "iopub.status.busy": "2022-05-25T04:46:16.021987Z",
     "iopub.status.idle": "2022-05-25T04:46:16.026216Z",
     "shell.execute_reply": "2022-05-25T04:46:16.025541Z"
    },
    "papermill": {
     "duration": 0.078206,
     "end_time": "2022-05-25T04:46:16.027954",
     "exception": false,
     "start_time": "2022-05-25T04:46:15.949748",
     "status": "completed"
    },
    "tags": []
   },
   "outputs": [],
   "source": [
    "def summarize_performance(step, g_model, dataset, n_samples=3):\n",
    "\t# save the generator model\n",
    "\tfilename2 = 'model_%06d.h5' % (step+1)\n",
    "\tg_model.save(filename2)\n",
    "\tprint('>Saved:  %s' % (filename2))"
   ]
  },
  {
   "cell_type": "code",
   "execution_count": null,
   "id": "50c4dfeb",
   "metadata": {
    "papermill": {
     "duration": 0.070847,
     "end_time": "2022-05-25T04:46:16.168990",
     "exception": false,
     "start_time": "2022-05-25T04:46:16.098143",
     "status": "completed"
    },
    "tags": []
   },
   "outputs": [],
   "source": [
    "     "
   ]
  },
  {
   "cell_type": "code",
   "execution_count": null,
   "id": "89cd56fa",
   "metadata": {
    "execution": {
     "iopub.execute_input": "2022-05-25T04:46:16.314738Z",
     "iopub.status.busy": "2022-05-25T04:46:16.314308Z",
     "iopub.status.idle": "2022-05-25T04:46:16.323554Z",
     "shell.execute_reply": "2022-05-25T04:46:16.322889Z"
    },
    "papermill": {
     "duration": 0.084987,
     "end_time": "2022-05-25T04:46:16.325230",
     "exception": false,
     "start_time": "2022-05-25T04:46:16.240243",
     "status": "completed"
    },
    "tags": []
   },
   "outputs": [],
   "source": [
    "def train(d_model, g_model, gan_model, dataset, n_epochs=100, n_batch=1):\n",
    "\t# determine the output square shape of the discriminator\n",
    "\tn_patch = d_model.output_shape[1]\n",
    "\t# unpack dataset\n",
    "\ttrainA, trainB = dataset\n",
    "\t# calculate the number of batches per training epoch\n",
    "\tbat_per_epo = int(len(trainA) / n_batch)\n",
    "\t# calculate the number of training iterations\n",
    "\tn_steps = bat_per_epo * n_epochs\n",
    "\t# manually enumerate epochs\n",
    "\tfor i in range(n_steps):\n",
    "\t\t# select a batch of real samples\n",
    "\t\t[X_realA, X_realB], y_real = generate_real_samples(dataset, n_batch, n_patch)\n",
    "\t\t# generate a batch of fake samples\n",
    "\t\tX_fakeB, y_fake = generate_fake_samples(g_model, X_realA, n_patch)\n",
    "\t\t# update discriminator for real samples\n",
    "\t\td_loss1 = d_model.train_on_batch([X_realA, X_realB], y_real)\n",
    "\t\t# update discriminator for generated samples\n",
    "\t\td_loss2 = d_model.train_on_batch([X_realA, X_fakeB], y_fake)\n",
    "\t\t# update the generator\n",
    "\t\tg_loss, _, _ = gan_model.train_on_batch(X_realA, [y_real, X_realB])\n",
    "\t\t# summarize performance\n",
    "\t\tprint('>%d, d1[%.3f] d2[%.3f] g[%.3f]' % (i+1, d_loss1, d_loss2, g_loss))\n",
    "\t\t# summarize model performance\n",
    "\t\tif (i) == n_steps-1:\n",
    "\t\t\tsummarize_performance(i, g_model, dataset)        "
   ]
  },
  {
   "cell_type": "code",
   "execution_count": null,
   "id": "b71ed95c",
   "metadata": {
    "execution": {
     "iopub.execute_input": "2022-05-25T04:46:16.468917Z",
     "iopub.status.busy": "2022-05-25T04:46:16.468648Z",
     "iopub.status.idle": "2022-05-25T04:50:50.785701Z",
     "shell.execute_reply": "2022-05-25T04:50:50.784928Z"
    },
    "papermill": {
     "duration": 274.391752,
     "end_time": "2022-05-25T04:50:50.787973",
     "exception": false,
     "start_time": "2022-05-25T04:46:16.396221",
     "status": "completed"
    },
    "scrolled": true,
    "tags": []
   },
   "outputs": [],
   "source": [
    "from numpy import load\n",
    "def load_real_samples(brain, mask):\n",
    "\t# load the compressed arrays\n",
    "    data = load(brain)\n",
    "    print(data)\n",
    "    data1 = load(mask)\n",
    "    print(data1)\n",
    "\t# unpack the arrays\n",
    "    X1, X2 = data['arr_0'], data1['arr_0']\n",
    "\t# scale from [0,255] to [-1,1]\n",
    "    X1 = (X1 - 127.5) / 127.5\n",
    "    X2 = (X2 - 127.5) / 127.5\n",
    "    return [X1, X2]\n",
    "dataset = load_real_samples(data_source1,data_source2)\n",
    "print('Loaded', dataset[0].shape, dataset[1].shape)\n",
    "\n",
    "# define input shape based on the loaded dataset\n",
    "image_shape = (256,256,1)\n",
    "print(image_shape)\n",
    "\n",
    "# define the models\n",
    "d_model = define_discriminator(image_shape)\n",
    "g_model = define_generator(image_shape)\n",
    "# define the composite model\n",
    "gan_model = define_gan(g_model, d_model, image_shape)\n",
    "# train model\n",
    "train(d_model, g_model, gan_model, dataset, n_epochs = 100, n_batch=16)\n"
   ]
  },
  {
   "cell_type": "code",
   "execution_count": null,
   "id": "fea5711b",
   "metadata": {
    "execution": {
     "iopub.execute_input": "2022-05-25T04:50:51.294250Z",
     "iopub.status.busy": "2022-05-25T04:50:51.293989Z",
     "iopub.status.idle": "2022-05-25T04:50:52.584094Z",
     "shell.execute_reply": "2022-05-25T04:50:52.583388Z"
    },
    "papermill": {
     "duration": 1.546804,
     "end_time": "2022-05-25T04:50:52.586165",
     "exception": false,
     "start_time": "2022-05-25T04:50:51.039361",
     "status": "completed"
    },
    "tags": []
   },
   "outputs": [],
   "source": [
    "mypath = \"../input/figshare-brain-tumor-dataset/dataset/data\"\n",
    "filelist = natsorted([f for f in listdir(mypath) if isfile(join(mypath, f))])"
   ]
  },
  {
   "cell_type": "code",
   "execution_count": null,
   "id": "c67a7e44",
   "metadata": {
    "execution": {
     "iopub.execute_input": "2022-05-25T04:50:53.092359Z",
     "iopub.status.busy": "2022-05-25T04:50:53.091813Z",
     "iopub.status.idle": "2022-05-25T04:50:53.095624Z",
     "shell.execute_reply": "2022-05-25T04:50:53.094819Z"
    },
    "papermill": {
     "duration": 0.258465,
     "end_time": "2022-05-25T04:50:53.097619",
     "exception": false,
     "start_time": "2022-05-25T04:50:52.839154",
     "status": "completed"
    },
    "tags": []
   },
   "outputs": [],
   "source": [
    "filelist100 = filelist[100:200]"
   ]
  },
  {
   "cell_type": "code",
   "execution_count": null,
   "id": "ce9dc9e9",
   "metadata": {
    "execution": {
     "iopub.execute_input": "2022-05-25T04:50:53.611766Z",
     "iopub.status.busy": "2022-05-25T04:50:53.611504Z",
     "iopub.status.idle": "2022-05-25T04:50:55.329651Z",
     "shell.execute_reply": "2022-05-25T04:50:55.328987Z"
    },
    "papermill": {
     "duration": 1.971727,
     "end_time": "2022-05-25T04:50:55.331372",
     "exception": false,
     "start_time": "2022-05-25T04:50:53.359645",
     "status": "completed"
    },
    "scrolled": true,
    "tags": []
   },
   "outputs": [],
   "source": [
    "path = \"../input/figshare-brain-tumor-dataset/dataset/data/\"\n",
    "datalist = []\n",
    "for i in range(0,100):\n",
    "    f = h5py.File(path + filelist100[i],'r')\n",
    "    list(f.keys())\n",
    "    datalist.append(np.array(f.get('cjdata/tumorMask/')))\n",
    "    datalist[i].reshape(512,512,1)\n",
    "    datalist[i] = resize(datalist[i], (256, 256))\n",
    "    \n",
    "np.array(datalist)"
   ]
  },
  {
   "cell_type": "code",
   "execution_count": null,
   "id": "fc1fd770",
   "metadata": {
    "execution": {
     "iopub.execute_input": "2022-05-25T04:50:55.837960Z",
     "iopub.status.busy": "2022-05-25T04:50:55.837716Z",
     "iopub.status.idle": "2022-05-25T04:50:56.025010Z",
     "shell.execute_reply": "2022-05-25T04:50:56.024243Z"
    },
    "papermill": {
     "duration": 0.443335,
     "end_time": "2022-05-25T04:50:56.026776",
     "exception": false,
     "start_time": "2022-05-25T04:50:55.583441",
     "status": "completed"
    },
    "tags": []
   },
   "outputs": [],
   "source": [
    "plt.imshow(datalist[0])"
   ]
  },
  {
   "cell_type": "code",
   "execution_count": null,
   "id": "e947449b",
   "metadata": {
    "execution": {
     "iopub.execute_input": "2022-05-25T04:50:56.535706Z",
     "iopub.status.busy": "2022-05-25T04:50:56.534927Z",
     "iopub.status.idle": "2022-05-25T04:50:57.575945Z",
     "shell.execute_reply": "2022-05-25T04:50:57.575194Z"
    },
    "papermill": {
     "duration": 1.299251,
     "end_time": "2022-05-25T04:50:57.578051",
     "exception": false,
     "start_time": "2022-05-25T04:50:56.278800",
     "status": "completed"
    },
    "tags": []
   },
   "outputs": [],
   "source": [
    "kaamKaDataStack = tf.stack(\n",
    "   datalist, axis=0, name='stack'\n",
    ")"
   ]
  },
  {
   "cell_type": "code",
   "execution_count": null,
   "id": "7ea20e15",
   "metadata": {
    "execution": {
     "iopub.execute_input": "2022-05-25T04:50:58.087438Z",
     "iopub.status.busy": "2022-05-25T04:50:58.087168Z",
     "iopub.status.idle": "2022-05-25T04:50:58.218797Z",
     "shell.execute_reply": "2022-05-25T04:50:58.218038Z"
    },
    "papermill": {
     "duration": 0.385943,
     "end_time": "2022-05-25T04:50:58.220957",
     "exception": false,
     "start_time": "2022-05-25T04:50:57.835014",
     "status": "completed"
    },
    "tags": []
   },
   "outputs": [],
   "source": [
    "np.savez(\"./test1.npz\", kaamKaDataStack)"
   ]
  },
  {
   "cell_type": "code",
   "execution_count": null,
   "id": "8f22bbba",
   "metadata": {
    "execution": {
     "iopub.execute_input": "2022-05-25T04:50:58.728030Z",
     "iopub.status.busy": "2022-05-25T04:50:58.727774Z",
     "iopub.status.idle": "2022-05-25T04:51:00.673938Z",
     "shell.execute_reply": "2022-05-25T04:51:00.673285Z"
    },
    "papermill": {
     "duration": 2.201372,
     "end_time": "2022-05-25T04:51:00.675711",
     "exception": false,
     "start_time": "2022-05-25T04:50:58.474339",
     "status": "completed"
    },
    "scrolled": true,
    "tags": []
   },
   "outputs": [],
   "source": [
    "path = \"../input/figshare-brain-tumor-dataset/dataset/data/\"\n",
    "imageDatalist = []\n",
    "for i in range(0,100):\n",
    "    f1 = h5py.File(path + filelist100[i],'r')\n",
    "    list(f1.keys())\n",
    "    imageDatalist.append(np.array(f1.get('cjdata/image/')))\n",
    "    imageDatalist[i].reshape(512,512,1)\n",
    "    imageDatalist[i] = resize(imageDatalist[i], (256, 256))\n",
    "    \n",
    "np.array(imageDatalist)"
   ]
  },
  {
   "cell_type": "code",
   "execution_count": null,
   "id": "0d14fb16",
   "metadata": {
    "execution": {
     "iopub.execute_input": "2022-05-25T04:51:01.188348Z",
     "iopub.status.busy": "2022-05-25T04:51:01.188105Z",
     "iopub.status.idle": "2022-05-25T04:51:02.051310Z",
     "shell.execute_reply": "2022-05-25T04:51:02.050560Z"
    },
    "papermill": {
     "duration": 1.121425,
     "end_time": "2022-05-25T04:51:02.053153",
     "exception": false,
     "start_time": "2022-05-25T04:51:00.931728",
     "status": "completed"
    },
    "tags": []
   },
   "outputs": [],
   "source": [
    "kaamKaImageStack = tf.stack(\n",
    "   imageDatalist, axis=0, name='stack1'\n",
    ")"
   ]
  },
  {
   "cell_type": "code",
   "execution_count": null,
   "id": "f5ea4979",
   "metadata": {
    "execution": {
     "iopub.execute_input": "2022-05-25T04:51:02.562287Z",
     "iopub.status.busy": "2022-05-25T04:51:02.562037Z",
     "iopub.status.idle": "2022-05-25T04:51:02.690800Z",
     "shell.execute_reply": "2022-05-25T04:51:02.690025Z"
    },
    "papermill": {
     "duration": 0.384669,
     "end_time": "2022-05-25T04:51:02.692946",
     "exception": false,
     "start_time": "2022-05-25T04:51:02.308277",
     "status": "completed"
    },
    "tags": []
   },
   "outputs": [],
   "source": [
    "np.savez(\"./testimg1.npz\", kaamKaImageStack)"
   ]
  },
  {
   "cell_type": "code",
   "execution_count": null,
   "id": "2ba37139",
   "metadata": {
    "execution": {
     "iopub.execute_input": "2022-05-25T04:51:03.199793Z",
     "iopub.status.busy": "2022-05-25T04:51:03.199044Z",
     "iopub.status.idle": "2022-05-25T04:51:03.205035Z",
     "shell.execute_reply": "2022-05-25T04:51:03.204243Z"
    },
    "papermill": {
     "duration": 0.260538,
     "end_time": "2022-05-25T04:51:03.207031",
     "exception": false,
     "start_time": "2022-05-25T04:51:02.946493",
     "status": "completed"
    },
    "tags": []
   },
   "outputs": [],
   "source": [
    "pwd"
   ]
  },
  {
   "cell_type": "code",
   "execution_count": null,
   "id": "788aa402",
   "metadata": {
    "execution": {
     "iopub.execute_input": "2022-05-25T04:51:03.713942Z",
     "iopub.status.busy": "2022-05-25T04:51:03.713686Z",
     "iopub.status.idle": "2022-05-25T04:51:05.171121Z",
     "shell.execute_reply": "2022-05-25T04:51:05.170429Z"
    },
    "papermill": {
     "duration": 1.713983,
     "end_time": "2022-05-25T04:51:05.173075",
     "exception": false,
     "start_time": "2022-05-25T04:51:03.459092",
     "status": "completed"
    },
    "tags": []
   },
   "outputs": [],
   "source": [
    "from keras.models import load_model\n",
    "from numpy import load\n",
    "from numpy import vstack\n",
    "from matplotlib import pyplot\n",
    "from numpy.random import randint\n",
    " \n",
    "# load and prepare training images\n",
    "def load_real_samples(brain, mask):\n",
    "\t# load the compressed arrays\n",
    "    data = load(brain)\n",
    "    print(data)\n",
    "    data1 = load(mask)\n",
    "    print(data1)\n",
    "\t# unpack the arrays\n",
    "    X1, X2 = data['arr_0'], data1['arr_0']\n",
    "\t# scale from [0,255] to [-1,1]\n",
    "    X1 = (X1 - 127.5) / 127.5\n",
    "    X2 = (X2 - 127.5) / 127.5\n",
    "    return [X1, X2]\n",
    " \n",
    "# plot source, generated and target images\n",
    "def plot_images(src_img, gen_img, tar_img):\n",
    "    images = vstack((src_img, gen_img, tar_img))\n",
    "    # scale from [-1,1] to [0,1]\n",
    "    images = (images + 1) / 2.0\n",
    "    titles = ['Source', 'Generated', 'Expected']\n",
    "    # plot images row by row\n",
    "    for i in range(len(images)):\n",
    "    # define subplot\n",
    "        pyplot.subplot(1, 3, 1 + i)\n",
    "        # turn off axis\n",
    "        pyplot.axis('off')\n",
    "        # plot raw pixel data\n",
    "        pyplot.imshow(images[i])\n",
    "        # show title\n",
    "        pyplot.title(titles[i])\n",
    "    pyplot.show()\n",
    "\n",
    "# load dataset\n",
    "[X1,X2] = load_real_samples('testimg1.npz','test1.npz')\n",
    "#[X2] = load_real_samples('test1.npz')\n",
    "print('Loaded', X1.shape, X2.shape)\n",
    "# load model\n",
    "model = load_model('model_000600.h5')\n",
    "# select random example\n",
    "ix = randint(0, len(X1), 1)\n",
    "print(ix)\n",
    "src_image, tar_image = X1[ix], X2[ix]\n",
    "# generate image from source\n",
    "gen_image = model.predict(src_image)\n",
    "src_image = src_image.reshape(1,256,256,1) \n",
    "tar_image = tar_image.reshape(1,256,256,1)\n",
    "# plot all three images\n",
    "plot_images(src_image, gen_image, tar_image)"
   ]
  },
  {
   "attachments": {},
   "cell_type": "markdown",
   "id": "3b07bfae",
   "metadata": {
    "papermill": {
     "duration": 0.25385,
     "end_time": "2022-05-25T04:51:05.683001",
     "exception": false,
     "start_time": "2022-05-25T04:51:05.429151",
     "status": "completed"
    },
    "tags": []
   },
   "source": []
  },
  {
   "cell_type": "code",
   "execution_count": null,
   "id": "8d22b7ad",
   "metadata": {
    "papermill": {
     "duration": 0.270158,
     "end_time": "2022-05-25T04:51:06.237967",
     "exception": false,
     "start_time": "2022-05-25T04:51:05.967809",
     "status": "completed"
    },
    "tags": []
   },
   "outputs": [],
   "source": []
  }
 ],
 "metadata": {
  "kernelspec": {
   "display_name": "Python 3",
   "language": "python",
   "name": "python3"
  },
  "language_info": {
   "codemirror_mode": {
    "name": "ipython",
    "version": 3
   },
   "file_extension": ".py",
   "mimetype": "text/x-python",
   "name": "python",
   "nbconvert_exporter": "python",
   "pygments_lexer": "ipython3",
   "version": "3.7.12"
  },
  "papermill": {
   "default_parameters": {},
   "duration": 341.680885,
   "end_time": "2022-05-25T04:51:09.851063",
   "environment_variables": {},
   "exception": null,
   "input_path": "__notebook__.ipynb",
   "output_path": "__notebook__.ipynb",
   "parameters": {},
   "start_time": "2022-05-25T04:45:28.170178",
   "version": "2.3.4"
  }
 },
 "nbformat": 4,
 "nbformat_minor": 5
}
